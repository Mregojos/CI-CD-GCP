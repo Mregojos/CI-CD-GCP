{
 "cells": [
  {
   "cell_type": "markdown",
   "id": "9d28fe5c-a203-45b4-adc1-c256ca90d12b",
   "metadata": {},
   "source": [
    "# CI/CD on GCP Project "
   ]
  },
  {
   "cell_type": "markdown",
   "id": "d5761ed0-0dcf-4ed5-a2f7-f070f651adac",
   "metadata": {},
   "source": [
    "# Continuous Development and Continuous Delivery on Google Cloud\n",
    "\n",
    "### Plan -> Code -> Build -> Test -> Release -> Deploy -> Operate -> Monitor"
   ]
  },
  {
   "cell_type": "markdown",
   "id": "90bd430e-9fdf-4833-9773-52e62e6e258d",
   "metadata": {
    "tags": []
   },
   "source": [
    "## Objective\n",
    "\n",
    "* To build a CI/CD Pipeline on GCP using Google CLoud Services"
   ]
  },
  {
   "cell_type": "markdown",
   "id": "6c9024af-0b64-4614-91f1-41b7728f8b07",
   "metadata": {
    "jp-MarkdownHeadingCollapsed": true,
    "tags": []
   },
   "source": [
    "### Planning Stage"
   ]
  },
  {
   "cell_type": "markdown",
   "id": "c680446f-fa6e-4b3e-b151-721f1752d524",
   "metadata": {
    "jp-MarkdownHeadingCollapsed": true,
    "tags": []
   },
   "source": [
    "#### Architecture Diagram"
   ]
  },
  {
   "cell_type": "markdown",
   "id": "13f1f192-7cc2-4175-8202-f1acf09ff58d",
   "metadata": {
    "jp-MarkdownHeadingCollapsed": true,
    "tags": []
   },
   "source": [
    "### Coding Stage"
   ]
  },
  {
   "cell_type": "markdown",
   "id": "6d629604-b36c-4e1c-b12d-382a211d641e",
   "metadata": {
    "jp-MarkdownHeadingCollapsed": true,
    "tags": []
   },
   "source": [
    "#### Directory"
   ]
  },
  {
   "cell_type": "code",
   "execution_count": null,
   "id": "4454ba93-a13a-4aa9-8c8f-69d0466d5adb",
   "metadata": {},
   "outputs": [],
   "source": [
    "!mkdir app"
   ]
  },
  {
   "cell_type": "code",
   "execution_count": null,
   "id": "03d216a9-739e-472b-8766-87b0e4f15c1b",
   "metadata": {
    "tags": []
   },
   "outputs": [],
   "source": [
    "cd app"
   ]
  },
  {
   "cell_type": "markdown",
   "id": "700c6bd2-65e1-44bc-a276-591e7d2374c3",
   "metadata": {
    "tags": []
   },
   "source": [
    "#### Database"
   ]
  },
  {
   "cell_type": "markdown",
   "id": "9d3631e0-da1a-451e-9f7b-922b33b9eb90",
   "metadata": {
    "jp-MarkdownHeadingCollapsed": true,
    "tags": []
   },
   "source": [
    "##### Postgres Docker"
   ]
  },
  {
   "cell_type": "code",
   "execution_count": null,
   "id": "dfdfd94d-8c92-43ff-8862-cf4d145c7f6b",
   "metadata": {},
   "outputs": [],
   "source": [
    "# Without volume/data connected\n",
    "# !docker run --name postgres-sql -e POSTGRES_USER=matt -e POSTGRES_PASSWORD=password  -d postgres"
   ]
  },
  {
   "cell_type": "code",
   "execution_count": null,
   "id": "f8a15be0-528e-402b-9a77-7a665f7ebd55",
   "metadata": {},
   "outputs": [],
   "source": [
    "# With volume/data connected\n",
    "!docker run -d \\\n",
    "    --name postgres-sql \\\n",
    "    -e POSTGRES_USER=matt \\\n",
    "    -e POSTGRES_PASSWORD=password \\\n",
    "    -v $(pwd)/data/:/var/lib/postgresql/data/ \\\n",
    "    -p 5000:5432 \\\n",
    "    postgres"
   ]
  },
  {
   "cell_type": "code",
   "execution_count": null,
   "id": "3c163a28-9f76-4320-8407-87371a8b12a7",
   "metadata": {},
   "outputs": [],
   "source": [
    "!docker ps"
   ]
  },
  {
   "cell_type": "code",
   "execution_count": null,
   "id": "cec40c84-49ac-4582-ba3b-0e67ed4720ff",
   "metadata": {},
   "outputs": [],
   "source": [
    "!ls -a"
   ]
  },
  {
   "cell_type": "raw",
   "id": "4863f58a-b8ef-4081-8bbb-28e0fd0789fd",
   "metadata": {},
   "source": [
    "# Check the data\n",
    "# In a terminal\n",
    "# sudo su\n",
    "# cd $(pwd)/data/\n",
    "# ls -a"
   ]
  },
  {
   "cell_type": "raw",
   "id": "1e8093b9-b92b-42a7-bf9b-b17fba711449",
   "metadata": {},
   "source": [
    "# Test the data of the DB\n",
    "# docker rm -f <CONTAINER_ID>\n",
    "# run the docker run <...>\n",
    "# check the pgAdmin\n",
    "# the data persists"
   ]
  },
  {
   "cell_type": "markdown",
   "id": "adc64233-298e-4ab3-aeac-72f7f33977e2",
   "metadata": {
    "jp-MarkdownHeadingCollapsed": true,
    "tags": []
   },
   "source": [
    "##### pgAdmin"
   ]
  },
  {
   "cell_type": "code",
   "execution_count": null,
   "id": "0e55d2cf-1577-4de0-9d51-e63241103bed",
   "metadata": {},
   "outputs": [],
   "source": [
    "!docker run -p 8000:80 \\\n",
    "    -e 'PGADMIN_DEFAULT_EMAIL=matt@example.com' \\\n",
    "    -e 'PGADMIN_DEFAULT_PASSWORD=password' \\\n",
    "    -d dpage/pgadmin4"
   ]
  },
  {
   "cell_type": "code",
   "execution_count": null,
   "id": "53e73791-558d-464f-883c-4e7992e83be5",
   "metadata": {},
   "outputs": [],
   "source": [
    "!docker ps"
   ]
  },
  {
   "cell_type": "markdown",
   "id": "c0eea419-03f1-4a0e-8dc8-87218c237e82",
   "metadata": {
    "jp-MarkdownHeadingCollapsed": true,
    "tags": []
   },
   "source": [
    "##### Create a firewall (GCP)"
   ]
  },
  {
   "cell_type": "code",
   "execution_count": null,
   "id": "11ce46a8-e38f-41ee-8501-dd067944c24b",
   "metadata": {
    "tags": []
   },
   "outputs": [],
   "source": [
    "!gcloud compute --project=$(gcloud config get project) firewall-rules create ports \\\n",
    "    --direction=INGRESS --priority=1000 --network=default --action=ALLOW --rules=tcp:5000,tcp:8000,tcp:8501,tcp:9000 --source-ranges=0.0.0.0/0"
   ]
  },
  {
   "cell_type": "raw",
   "id": "361e64af-40b0-463c-802e-a878701ccb46",
   "metadata": {
    "tags": []
   },
   "source": [
    "##### Open pgAdmin Browser"
   ]
  },
  {
   "cell_type": "raw",
   "id": "c6fcd10b-d1cf-4d14-a30a-d681e9fa1958",
   "metadata": {},
   "source": [
    "# http://<IP_ADDRESS>:<PORT>\n",
    "# Login with credentials\n",
    "\n",
    "# Register Server\n",
    "# HOST: <IP_ADDRESS>\n",
    "# PORT: 5000\n",
    "# USER: <POSTGRES_USER>\n",
    "# PASSWORD: <PASSWORD>"
   ]
  },
  {
   "cell_type": "markdown",
   "id": "14f874ac-f7f3-417e-88db-49dd4492fde5",
   "metadata": {
    "tags": []
   },
   "source": [
    "#### Application"
   ]
  },
  {
   "cell_type": "raw",
   "id": "f47d2dea-a331-4e6d-8e80-05417d4c0c95",
   "metadata": {},
   "source": [
    "# DB Credentials\n",
    "DBNAME=\"matt\"\n",
    "USER='matt'\n",
    "HOST= ''\n",
    "DBPORT='5000'\n",
    "DBPASSWORD='password'\n",
    "PROJECT_NAME=''"
   ]
  },
  {
   "cell_type": "raw",
   "id": "ac7560fa-c676-45c3-9200-6d6e44d86290",
   "metadata": {
    "jupyter": {
     "source_hidden": true
    },
    "tags": []
   },
   "source": [
    "%%writefile app.py\n",
    "# Deployment\n",
    "# Import libraries\n",
    "import streamlit as st\n",
    "import psycopg2\n",
    "import os\n",
    "import time\n",
    "import vertexai\n",
    "from vertexai.language_models import TextGenerationModel\n",
    "# from env import *\n",
    "\n",
    "# Database Credentials\n",
    "DBNAME=os.getenv(\"DBNAME\")\n",
    "USER=os.getenv(\"USER\")\n",
    "HOST= os.getenv(\"HOST\")\n",
    "DBPORT=os.getenv(\"DBPORT\")\n",
    "DBPASSWORD=os.getenv(\"DBPASSWORD\")\n",
    "# Cloud\n",
    "PROJECT_NAME=os.getenv(\"PROJECT_NAME\")\n",
    "\n",
    "#----------Page Configuration----------# \n",
    "st.set_page_config(page_title=\"Matt Cloud Tech\",\n",
    "                   page_icon=\":cloud:\",\n",
    "                   menu_items={\n",
    "                       'About':\"# Matt Cloud Tech\"})\n",
    "\n",
    "#----------About Me Section----------#\n",
    "st.title(\":cloud: Matt Cloud Tech\")\n",
    "st.header(\"\", divider=\"rainbow\")\n",
    "\n",
    "st.write(\"\"\"\n",
    "        ### Good day :wave:.\n",
    "        ### My name is :blue[Matt]. I am a Cloud Technology Enthusiast. :technologist:\n",
    "        ### Currently, I am learning and building Cloud Infrastructure, Data and CI/CD Pipelines, and Intelligent Systems. \n",
    "        \"\"\") \n",
    "# st.divider()\n",
    "#----------End of About Me Section----------#\n",
    "\n",
    "#----------Portfolio Section----------#\n",
    "with st.expander(' :notebook: Portfolio'):\n",
    "    # Connect to a database\n",
    "    con = psycopg2.connect(f\"\"\"\n",
    "                           dbname={DBNAME}\n",
    "                           user={USER}\n",
    "                           host={HOST}\n",
    "                           port={DBPORT}\n",
    "                           password={DBPASSWORD}\n",
    "                           \"\"\")\n",
    "    cur = con.cursor()\n",
    "\n",
    "    # Create a table if not exists\n",
    "    cur.execute(\"CREATE TABLE IF NOT EXISTS portfolio(id serial PRIMARY KEY, project_name varchar, description varchar, link varchar)\")\n",
    "    con.commit()    \n",
    "    st.write(\"### Project Collection\")\n",
    "    cur.execute(\"\"\"\n",
    "                SELECT * \n",
    "                FROM portfolio\n",
    "                \"\"\")\n",
    "    for id, project_name, description, link in cur.fetchall():\n",
    "        st.write(f\"### [{project_name}]({link})\")\n",
    "        st.write(f\"{description}\")\n",
    "        st.divider()\n",
    "    \n",
    "    # Add new project\n",
    "    add = st.checkbox(\"Modify\")\n",
    "    if add:\n",
    "        password = st.text_input(\"Password\", type=\"password\")\n",
    "        if password == DBPASSWORD:\n",
    "            modify = st.text_input(\"Add or Delete\")\n",
    "            if modify == \"Add\":\n",
    "                project_name = st.text_input(\"Project Name\")\n",
    "                description = st.text_input(\"Description\")\n",
    "                link = st.text_input(\"Link\")\n",
    "                ### Insert into adatabase\n",
    "                save = st.button(\"Save\")\n",
    "                if save:\n",
    "                    SQL = \"INSERT INTO portfolio (project_name, description, link) VALUES(%s, %s, %s);\"\n",
    "                    data = (project_name, description, link)\n",
    "                    cur.execute(SQL, data)\n",
    "                    con.commit()\n",
    "                    st.write(\"Successfully Added.\")\n",
    "                    st.button(\":blue[Done]\")\n",
    "            elif modify == \"Delete\":\n",
    "                project_name = st.text_input(\"Project Name\")\n",
    "                delete = st.button(\"Delete\")\n",
    "                if delete:\n",
    "                    cur.execute(f\"DELETE FROM portfolio WHERE project_name = '{project_name}';\")\n",
    "                    # SQL = \"DELETE FROM portfolio WHERE project_name = %s;\"\n",
    "                    # data = (project_name)\n",
    "                    # cur.execute(SQL, data)\n",
    "                    con.commit()\n",
    "                    st.success(\"Successfully Deleted.\")\n",
    "                    st.button(\":blue[Done]\")\n",
    "            \n",
    "#----------End of Portfolio Section----------#\n",
    "\n",
    "#----------Notepad Section----------#\n",
    "with st.expander(' :pencil: Notepad'):\n",
    "    st.header(\" :pencil: Notepad\",divider=\"rainbow\")\n",
    "    st.caption(\"\"\"\n",
    "                Add your thoughts here. It will be stored in a database. \\n\n",
    "                :warning: :red[Do not add sensitive data.]\n",
    "                \"\"\")\n",
    "    # Connect to a database\n",
    "    con = psycopg2.connect(f\"\"\"\n",
    "                           dbname={DBNAME}\n",
    "                           user={USER}\n",
    "                           host={HOST}\n",
    "                           port={DBPORT}\n",
    "                           password={DBPASSWORD}\n",
    "                           \"\"\")\n",
    "    cur = con.cursor()\n",
    "\n",
    "    # Create a table if not exists\n",
    "    cur.execute(\"CREATE TABLE IF NOT EXISTS notes(id serial PRIMARY KEY, name varchar, header varchar, note varchar, time varchar)\")\n",
    "    con.commit()\n",
    "\n",
    "    # Inputs\n",
    "    name = st.text_input(\"Your Name\")\n",
    "    header = st.text_input(\"Header\")\n",
    "    note = st.text_area(\"Note\")\n",
    "    if st.button(\"Add a note\"):\n",
    "        time = time.strftime(\"Date: %Y-%m-%d | Time: %H:%M:%S UTC\")\n",
    "        st.write(f\"\"\" \\n\n",
    "                ##### :pencil: {header} \\n\n",
    "                #### {note} \\n\n",
    "                :man: {name} \\n\"\"\")\n",
    "        st.caption(f\":watch: {time}\")\n",
    "        st.success(\"Successfully Added.\")\n",
    "        # st.balloons()\n",
    "        ### Insert into adatabase\n",
    "        SQL = \"INSERT INTO notes (name, header, note, time) VALUES(%s, %s, %s, %s);\"\n",
    "        data = (name, header, note, time)\n",
    "        cur.execute(SQL, data)\n",
    "        con.commit()\n",
    "\n",
    "    # Previous Notes \n",
    "    st.divider()\n",
    "    notes = st.checkbox(\"See previous notes\")\n",
    "    if notes:\n",
    "        st.write(\"### **:gray[Previous Notes]**\")\n",
    "        cur.execute(\"\"\"\n",
    "                    SELECT * \n",
    "                    FROM notes\n",
    "                    ORDER BY time DESC\n",
    "                    \"\"\")\n",
    "        for id, name, header, note, time in cur.fetchall():\n",
    "            st.write(f\"\"\" \\n\n",
    "                    ##### :pencil: {header} \\n\n",
    "                    #### {note} \\n\n",
    "                    :man: {name} \\n\"\"\")\n",
    "            st.caption(f\":watch: {time}\")\n",
    "\n",
    "            modify = st.toggle(f\"Edit or Delete (ID #: {id})\")\n",
    "            if modify:\n",
    "                name = st.text_input(f\"Your Name (ID #: {id})\", name)\n",
    "                header = st.text_input(f\"Header (ID #: {id})\", header)\n",
    "                note = st.text_area(f\"Note (ID #: {id})\", note)\n",
    "                if st.button(f\"UPDATE ID #: {id}\"):\n",
    "                    SQL = \" UPDATE notes SET id=%s, name=%s, header=%s, note=%s WHERE id = %s\"\n",
    "                    data = (id, name, header, note, id)\n",
    "                    cur.execute(SQL, data)\n",
    "                    con.commit()\n",
    "                    st.success(\"Successfully Edited.\")\n",
    "                    st.button(\":blue[Done]\")\n",
    "                if st.button(f\"DELETE ID #: {id}\"):\n",
    "                    cur.execute(f\"DELETE FROM notes WHERE id = {id}\")\n",
    "                    # SQL = \"DELETE FROM notes WHERE id = <...>\"\n",
    "                    # data = (id)\n",
    "                    # cur.execute(SQL, data)\n",
    "                    con.commit()\n",
    "                    st.success(\"Successfully Deleted.\")\n",
    "                    st.button(\":blue[Done]\")\n",
    "            st.subheader(\"\",divider=\"gray\")\n",
    "\n",
    "    # Close Connection\n",
    "    cur.close()\n",
    "    con.close()\n",
    "#----------End of Notepad Section----------#\n",
    "\n",
    "#----------Counter----------#\n",
    "with st.expander(' :watch: Counter'):\n",
    "    st.header(\"Counter\")\n",
    "    st.caption(\"\"\"\n",
    "                Count every request in this app.\n",
    "                \"\"\")\n",
    "    st.subheader(\"\",divider=\"rainbow\")\n",
    "\n",
    "    con = psycopg2.connect(f\"\"\"\n",
    "                           dbname={DBNAME}\n",
    "                           user={USER}\n",
    "                           host={HOST}\n",
    "                           port={DBPORT}\n",
    "                           password={DBPASSWORD}\n",
    "                           \"\"\")\n",
    "    cur = con.cursor()\n",
    "    # Create a table if not exists\n",
    "    cur.execute(\"CREATE TABLE IF NOT EXISTS counter(id serial PRIMARY KEY, view int, time varchar)\")\n",
    "    con.commit()\n",
    "\n",
    "    # Counter\n",
    "    import time\n",
    "    time = time.strftime(\"Date: %Y-%m-%d | Time: %H:%M:%S UTC\")\n",
    "    view = 1\n",
    "    ### Insert into a database\n",
    "    SQL = \"INSERT INTO counter (view, time) VALUES(%s, %s);\"\n",
    "    data = (view, time)\n",
    "    cur.execute(SQL, data)\n",
    "    con.commit()\n",
    "\n",
    "    # Total views\n",
    "    cur.execute(\"\"\"\n",
    "                SELECT SUM(view) \n",
    "                FROM counter\n",
    "                \"\"\")\n",
    "    st.write(f\"#### Total views: **{cur.fetchone()[0]}**\")\n",
    "    # Current view\n",
    "    st.write(f\"Current: {time}\")\n",
    "    # Total views today\n",
    "    time_date = time[0:15]\n",
    "    cur.execute(f\"\"\"\n",
    "                SELECT SUM(view) \n",
    "                FROM counter\n",
    "                WHERE time LIKE '{time_date}%'\n",
    "                \"\"\")\n",
    "    st.write(f\"#### Total views today: **{cur.fetchone()[0]}**\")\n",
    "    # Previous views\n",
    "    st.divider()\n",
    "    views = st.checkbox(\"See Previous Views\")\n",
    "    # TODO: Total views today (Visualization)\n",
    "    if views:\n",
    "        st.write(\"**Previous Views**\")\n",
    "        cur.execute(\"\"\"\n",
    "                    SELECT * \n",
    "                    FROM counter\n",
    "                    ORDER BY time DESC\n",
    "                    \"\"\")\n",
    "        for _, _, time in cur.fetchall():\n",
    "            st.caption(f\"{time}\")\n",
    "\n",
    "    # Close Connection\n",
    "    cur.close()\n",
    "    con.close()\n",
    "#----------End of Counter----------#\n",
    "\n",
    "\n",
    "#----------External links---------#\n",
    "with st.expander(' :link: External Links'):\n",
    "    st.write(\":link: :computer: [Personal Website](https://)\")\n",
    "    st.write(\":link: :book: [Project Repository](https://)\")\n",
    "    st.write(\":link: :notebook: [Blog](https://)\")\n",
    "    st.write(\":link: :hand: [Connect with me](https://)\")\n",
    "#----------End of External links---------#\n",
    "\n",
    "#----------Agent Section----------#\n",
    "#----------Vertex AI----------#\n",
    "agent = st.checkbox(' :computer: Agent (Talk to my Intelligent Assistant :technologist:)')\n",
    "# agent = st.toggle(' :computer: Agent (Talk to my Intelligent Assistant :technologist:)')\n",
    "if agent:\n",
    "    vertexai.init(project=PROJECT_NAME, location=\"us-central1\")\n",
    "    parameters = {\n",
    "        \"candidate_count\": 1,\n",
    "        \"max_output_tokens\": 1024,\n",
    "        \"temperature\": 0.2,\n",
    "        \"top_p\": 0.8,\n",
    "        \"top_k\": 40\n",
    "    }\n",
    "    model = TextGenerationModel.from_pretrained(\"text-bison\")\n",
    "\n",
    "    # response = model.predict(\n",
    "    #    \"\"\"Hi\"\"\",\n",
    "    #    **parameters\n",
    "    # )\n",
    "    # st.write(f\"Response from Model: {response.text}\")\n",
    "\n",
    "    #----------End of Vertex AI----------#\n",
    "    import time\n",
    "    st.header(\":computer: Agent \",divider=\"rainbow\")\n",
    "    st.caption(\"### Chat with my agent\")\n",
    "    st.write(f\":violet[Your chat will be stored in a database, use the same name to see your past conversations.]\")\n",
    "    st.caption(\":warning: :red[Do not add sensitive data.]\")\n",
    "    \n",
    "    # Variable\n",
    "    database_name = DBNAME\n",
    "    # Connect to a database\n",
    "    con = psycopg2.connect(f\"\"\"\n",
    "                           dbname={DBNAME}\n",
    "                           user={USER}\n",
    "                           host={HOST}\n",
    "                           port={DBPORT}\n",
    "                           password={DBPASSWORD}\n",
    "                           \"\"\")\n",
    "    cur = con.cursor()\n",
    "    # Create a table if not exists\n",
    "    cur.execute(\"CREATE TABLE IF NOT EXISTS chats(id serial PRIMARY KEY, name varchar, prompt varchar, output varchar, time varchar)\")\n",
    "    con.commit()\n",
    "\n",
    "    # Prompt\n",
    "    input_name = st.text_input(\"Your Name:\")\n",
    "    agent = st.toggle(\"**Let's go**\")\n",
    "    if agent:\n",
    "        st.write(f\"Your name for this chat is :blue[{input_name}]\")\n",
    "        prompt = st.chat_input(\"Talk to my agent\")\n",
    "        if prompt:\n",
    "            time = time.strftime(\"Date: %Y-%m-%d | Time: %H:%M:%S UTC\")\n",
    "            message = st.chat_message(\"user\")\n",
    "            message.write(f\":blue[{input_name}]: {prompt}\")\n",
    "            message.caption(f\"{time}\")\n",
    "            message = st.chat_message(\"assistant\")\n",
    "            response = model.predict(prompt,\n",
    "                **parameters\n",
    "            )\n",
    "            output = response.text\n",
    "            message.write(output)\n",
    "            message.caption(f\"{time}\")\n",
    "            st.divider()\n",
    "\n",
    "            ### Insert into a database\n",
    "            SQL = \"INSERT INTO chats (name, prompt, output, time) VALUES(%s, %s, %s, %s);\"\n",
    "            data = (input_name, prompt, output, time)\n",
    "            cur.execute(SQL, data)\n",
    "            con.commit()\n",
    "\n",
    "\n",
    "        with st.expander(f\"See Previous Conversation for {input_name}\"):\n",
    "            cur.execute(f\"\"\"\n",
    "                        SELECT * \n",
    "                        FROM chats\n",
    "                        WHERE name='{input_name}'\n",
    "                        ORDER BY time ASC\n",
    "                        \"\"\")\n",
    "            for id, name, prompt, output, time in cur.fetchall():\n",
    "                message = st.chat_message(\"user\")\n",
    "                message.write(f\":blue[{name}]: {prompt}\")\n",
    "                message.caption(f\"{time}\")\n",
    "                message = st.chat_message(\"assistant\")\n",
    "                message.write(output)\n",
    "                message.caption(f\"{time}\")\n",
    "    # Close Connection\n",
    "    cur.close()\n",
    "    con.close()\n",
    "#----------End of Agent Section----------#\n",
    "\n",
    "# Close Connection\n",
    "cur.close()\n",
    "con.close()\n",
    "#----------End of Agent Section----------#"
   ]
  },
  {
   "cell_type": "code",
   "execution_count": null,
   "id": "354bbc3d-4fa0-4130-90a7-0faa1a4dadee",
   "metadata": {},
   "outputs": [],
   "source": [
    "%%writefile Dockerfile\n",
    "FROM python\n",
    "WORKDIR /app\n",
    "RUN pip install streamlit psycopg2-binary google-cloud-aiplatform -q\n",
    "COPY . /app\n",
    "EXPOSE 9000\n",
    "CMD [\"streamlit\", \"run\", \"app.py\", \"--server.address\", \"0.0.0.0\", \"--server.port\", \"9000\"]"
   ]
  },
  {
   "cell_type": "markdown",
   "id": "89ba9deb-eb0a-4371-806a-41e1681f5b55",
   "metadata": {
    "tags": []
   },
   "source": [
    "### Building, Testing, and Releasing Stages"
   ]
  },
  {
   "cell_type": "code",
   "execution_count": null,
   "id": "4a9a2814-4177-4910-9874-aeed2a128d46",
   "metadata": {},
   "outputs": [],
   "source": [
    "# Enable Artifact Registry, Cloud Build, and Cloud Run"
   ]
  },
  {
   "cell_type": "markdown",
   "id": "39b0540a-a470-41d1-9966-15b7517f2c81",
   "metadata": {},
   "source": [
    "#### Create an Artifact Registry"
   ]
  },
  {
   "cell_type": "code",
   "execution_count": null,
   "id": "351e8f00-8e17-47f9-8af6-7150f5cd1c7e",
   "metadata": {
    "tags": []
   },
   "outputs": [],
   "source": [
    "import os\n",
    "# Environment Variables\n",
    "REGION=\"us-central1\"\n",
    "APP_ARTIFACT_NAME=\"app\"\n",
    "APP_NAME=\"app\"\n",
    "APP_VERSION=\"latest\"\n",
    "os.environ['REGION']=REGION\n",
    "os.environ[\"APP_ARTIFACT_NAME\"]=APP_ARTIFACT_NAME\n",
    "os.environ[\"APP_NAME\"]=APP_NAME\n",
    "os.environ[\"APP_VERSION\"]=APP_VERSION"
   ]
  },
  {
   "cell_type": "code",
   "execution_count": null,
   "id": "5e73056c-d80f-476e-8d55-dcd6094ca753",
   "metadata": {
    "tags": []
   },
   "outputs": [],
   "source": [
    "%%sh\n",
    "# Create a Docker repository in Artifact Registry\n",
    "gcloud artifacts repositories create $APP_ARTIFACT_NAME \\\n",
    "    --repository-format=docker \\\n",
    "    --location=$REGION \\\n",
    "    --description=\"Docker repository\""
   ]
  },
  {
   "cell_type": "code",
   "execution_count": null,
   "id": "727a5e4c-c896-4d67-86ad-f965e0a67281",
   "metadata": {
    "tags": []
   },
   "outputs": [],
   "source": [
    "%%sh\n",
    "# Verify\n",
    "gcloud artifacts repositories list"
   ]
  },
  {
   "cell_type": "markdown",
   "id": "22988fd3-7937-4d54-9193-f7e2128cbbed",
   "metadata": {
    "tags": []
   },
   "source": [
    "#### Build an image using Dockerfile and submit to Artifact Registry"
   ]
  },
  {
   "cell_type": "code",
   "execution_count": null,
   "id": "182ab788-e144-4ccc-9c50-32924d7cac2e",
   "metadata": {},
   "outputs": [],
   "source": [
    "# Check if the path is correct\n",
    "!pwd"
   ]
  },
  {
   "cell_type": "code",
   "execution_count": null,
   "id": "8b59d16d-4b00-49cc-b852-d4292b4ef662",
   "metadata": {},
   "outputs": [],
   "source": [
    "cd app"
   ]
  },
  {
   "cell_type": "code",
   "execution_count": null,
   "id": "32d6ddd8-8bf1-474a-93c9-d764edd0f1af",
   "metadata": {
    "tags": []
   },
   "outputs": [],
   "source": [
    "!gcloud builds submit \\\n",
    "    --region=$REGION \\\n",
    "    --tag $REGION-docker.pkg.dev/$(gcloud config get-value project)/$APP_NAME/$APP_NAME:$APP_VERSION"
   ]
  },
  {
   "cell_type": "markdown",
   "id": "3299f214-f593-40f1-a960-bf54ee3c1404",
   "metadata": {
    "tags": []
   },
   "source": [
    "### Deploying Stage"
   ]
  },
  {
   "cell_type": "code",
   "execution_count": null,
   "id": "3e19f8d0-a995-4311-be11-80c2c5ee2b3c",
   "metadata": {},
   "outputs": [],
   "source": [
    "# Deploy using the console"
   ]
  },
  {
   "cell_type": "code",
   "execution_count": null,
   "id": "eb78a496-dfa1-472c-a2c8-8d8c9ed171cc",
   "metadata": {},
   "outputs": [],
   "source": []
  },
  {
   "cell_type": "code",
   "execution_count": null,
   "id": "0b60ef6b-57b9-4c2e-b89b-ddefee0a2a77",
   "metadata": {},
   "outputs": [],
   "source": [
    "# Deploy using cli"
   ]
  },
  {
   "cell_type": "code",
   "execution_count": null,
   "id": "6c9b7a1a-0155-4cad-86b5-d99442d20db1",
   "metadata": {},
   "outputs": [],
   "source": []
  },
  {
   "cell_type": "markdown",
   "id": "5e01db45-16f9-44dc-a927-4b1710792d70",
   "metadata": {
    "tags": []
   },
   "source": [
    "### Operating Stage"
   ]
  },
  {
   "cell_type": "markdown",
   "id": "94803480-a8eb-40ca-94cf-d15f9fc6cc07",
   "metadata": {},
   "source": [
    "### Monitoring Stage"
   ]
  },
  {
   "cell_type": "markdown",
   "id": "490eb41e-c957-499d-a5a9-34fff6b28eb9",
   "metadata": {},
   "source": [
    "## Conclusion"
   ]
  }
 ],
 "metadata": {
  "environment": {
   "kernel": "python3",
   "name": "tf2-cpu.2-11.m113",
   "type": "gcloud",
   "uri": "gcr.io/deeplearning-platform-release/tf2-cpu.2-11:m113"
  },
  "kernelspec": {
   "display_name": "Python 3",
   "language": "python",
   "name": "python3"
  },
  "language_info": {
   "codemirror_mode": {
    "name": "ipython",
    "version": 3
   },
   "file_extension": ".py",
   "mimetype": "text/x-python",
   "name": "python",
   "nbconvert_exporter": "python",
   "pygments_lexer": "ipython3",
   "version": "3.10.13"
  }
 },
 "nbformat": 4,
 "nbformat_minor": 5
}
