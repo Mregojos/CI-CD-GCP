{
 "cells": [
  {
   "cell_type": "markdown",
   "id": "9d28fe5c-a203-45b4-adc1-c256ca90d12b",
   "metadata": {},
   "source": [
    "# CI/CD on GCP Project "
   ]
  },
  {
   "cell_type": "markdown",
   "id": "d5761ed0-0dcf-4ed5-a2f7-f070f651adac",
   "metadata": {},
   "source": [
    "# Continuous Development and Continuous Delivery on Google Cloud\n",
    "\n",
    "### Plan -> Code -> Build -> Test -> Release -> Deploy -> Operate -> Monitor"
   ]
  },
  {
   "cell_type": "markdown",
   "id": "90bd430e-9fdf-4833-9773-52e62e6e258d",
   "metadata": {
    "tags": []
   },
   "source": [
    "## Objective\n",
    "\n",
    "* To build a CI/CD Pipeline on GCP using Google CLoud Services"
   ]
  },
  {
   "cell_type": "markdown",
   "id": "6c9024af-0b64-4614-91f1-41b7728f8b07",
   "metadata": {
    "tags": []
   },
   "source": [
    "### Planning Stage"
   ]
  },
  {
   "cell_type": "markdown",
   "id": "c680446f-fa6e-4b3e-b151-721f1752d524",
   "metadata": {},
   "source": [
    "#### Image"
   ]
  },
  {
   "cell_type": "markdown",
   "id": "13f1f192-7cc2-4175-8202-f1acf09ff58d",
   "metadata": {
    "tags": []
   },
   "source": [
    "### Coding Stage"
   ]
  },
  {
   "cell_type": "markdown",
   "id": "700c6bd2-65e1-44bc-a276-591e7d2374c3",
   "metadata": {
    "tags": []
   },
   "source": [
    "#### Database"
   ]
  },
  {
   "cell_type": "markdown",
   "id": "14f874ac-f7f3-417e-88db-49dd4492fde5",
   "metadata": {
    "tags": []
   },
   "source": [
    "#### Application"
   ]
  },
  {
   "cell_type": "markdown",
   "id": "89ba9deb-eb0a-4371-806a-41e1681f5b55",
   "metadata": {},
   "source": [
    "### Building and Testing Stage"
   ]
  },
  {
   "cell_type": "code",
   "execution_count": null,
   "id": "fa83ba03-2992-428a-8537-a2a134e54533",
   "metadata": {},
   "outputs": [],
   "source": [
    "# Build an image"
   ]
  },
  {
   "cell_type": "markdown",
   "id": "3cef7dc6-2c2c-4cb4-90e6-cb4727a85ed4",
   "metadata": {},
   "source": [
    "### Releasing Stage"
   ]
  },
  {
   "cell_type": "code",
   "execution_count": null,
   "id": "57b52744-7ff0-4e52-9dad-f04a3c0872f2",
   "metadata": {},
   "outputs": [],
   "source": [
    "# Release to Artificact Registry"
   ]
  },
  {
   "cell_type": "markdown",
   "id": "3299f214-f593-40f1-a960-bf54ee3c1404",
   "metadata": {
    "tags": []
   },
   "source": [
    "### Deploying Stage"
   ]
  },
  {
   "cell_type": "code",
   "execution_count": null,
   "id": "3e19f8d0-a995-4311-be11-80c2c5ee2b3c",
   "metadata": {},
   "outputs": [],
   "source": [
    "# Deploy "
   ]
  },
  {
   "cell_type": "markdown",
   "id": "5e01db45-16f9-44dc-a927-4b1710792d70",
   "metadata": {},
   "source": [
    "### Operating Stage"
   ]
  },
  {
   "cell_type": "markdown",
   "id": "94803480-a8eb-40ca-94cf-d15f9fc6cc07",
   "metadata": {},
   "source": [
    "### Monitoring Stage"
   ]
  },
  {
   "cell_type": "markdown",
   "id": "490eb41e-c957-499d-a5a9-34fff6b28eb9",
   "metadata": {},
   "source": [
    "## Conclusion"
   ]
  }
 ],
 "metadata": {
  "environment": {
   "kernel": "python3",
   "name": "tf2-cpu.2-11.m113",
   "type": "gcloud",
   "uri": "gcr.io/deeplearning-platform-release/tf2-cpu.2-11:m113"
  },
  "kernelspec": {
   "display_name": "Python 3",
   "language": "python",
   "name": "python3"
  },
  "language_info": {
   "codemirror_mode": {
    "name": "ipython",
    "version": 3
   },
   "file_extension": ".py",
   "mimetype": "text/x-python",
   "name": "python",
   "nbconvert_exporter": "python",
   "pygments_lexer": "ipython3",
   "version": "3.10.13"
  }
 },
 "nbformat": 4,
 "nbformat_minor": 5
}
