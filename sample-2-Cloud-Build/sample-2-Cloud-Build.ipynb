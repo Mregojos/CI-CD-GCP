{
 "cells": [
  {
   "cell_type": "markdown",
   "id": "fc726d11-01bd-434a-a154-d29438b2d9af",
   "metadata": {},
   "source": [
    "# Sample 2: Cloud Build\n",
    "\n",
    "Reference: cloud.google.com/build/docs/overview"
   ]
  },
  {
   "cell_type": "markdown",
   "id": "0411a93d-d0eb-459b-8504-f27b7dceae32",
   "metadata": {},
   "source": [
    "## Build and Push a Docker image with Cloud Build"
   ]
  },
  {
   "cell_type": "code",
   "execution_count": null,
   "id": "9fcdc8ad-42a2-4147-ac3e-f11d47953620",
   "metadata": {},
   "outputs": [],
   "source": [
    "# Enable APIs\n",
    "# Cloud Build and Artifact Registry APIs"
   ]
  },
  {
   "cell_type": "code",
   "execution_count": null,
   "id": "b5813781-c0d3-44cf-84a3-1bf24f73456f",
   "metadata": {},
   "outputs": [],
   "source": [
    "# gcloud init"
   ]
  },
  {
   "cell_type": "markdown",
   "id": "82a05846-6e81-4309-8a3e-27e8d425728b",
   "metadata": {},
   "source": [
    "### Prepare source files to build"
   ]
  },
  {
   "cell_type": "code",
   "execution_count": null,
   "id": "c17b8a4f-894a-4da1-aa0b-c4c5523a0c5f",
   "metadata": {},
   "outputs": [],
   "source": [
    "%%sh\n",
    "mkdir quickstart-docker"
   ]
  },
  {
   "cell_type": "code",
   "execution_count": 1,
   "id": "52350bf1-38e7-49f2-af4f-e08af3387143",
   "metadata": {},
   "outputs": [
    {
     "name": "stdout",
     "output_type": "stream",
     "text": [
      "/home/jupyter/CI-CD-GCP/sample-2-Cloud-Build/quickstart-docker\n"
     ]
    }
   ],
   "source": [
    "cd quickstart-docker"
   ]
  },
  {
   "cell_type": "code",
   "execution_count": 3,
   "id": "019c88da-26a2-478f-b90c-adadf1a97c8f",
   "metadata": {},
   "outputs": [
    {
     "name": "stdout",
     "output_type": "stream",
     "text": [
      "Writing quickstart.sh\n"
     ]
    }
   ],
   "source": [
    "%%writefile quickstart.sh\n",
    "echo \"Hi\""
   ]
  },
  {
   "cell_type": "code",
   "execution_count": 4,
   "id": "32bed5d9-58e5-4182-8e02-e3736f22fff6",
   "metadata": {},
   "outputs": [
    {
     "name": "stdout",
     "output_type": "stream",
     "text": [
      "Writing Dockerfile\n"
     ]
    }
   ],
   "source": [
    "%%writefile Dockerfile\n",
    "FROM ubuntu\n",
    "COPY quickstart.sh /\n",
    "CMD [\"/quickstart.sh\"]"
   ]
  },
  {
   "cell_type": "code",
   "execution_count": 5,
   "id": "d02e32d9-f4af-47ff-835b-29ba4225b445",
   "metadata": {},
   "outputs": [],
   "source": [
    "!chmod +x quickstart.sh"
   ]
  },
  {
   "cell_type": "markdown",
   "id": "18fdaa5a-f852-448b-96f1-91d3bd55e2ee",
   "metadata": {},
   "source": [
    "### Create a Docker repository in Artifact Registry"
   ]
  },
  {
   "cell_type": "code",
   "execution_count": 7,
   "id": "866bd4ea-c9e5-4b29-909e-31dc38ff2cfa",
   "metadata": {},
   "outputs": [
    {
     "name": "stderr",
     "output_type": "stream",
     "text": [
      "Create request issued for: [quickstart-docker-repo]\n",
      "Waiting for operation [projects/training1027/locations/us-west2/operations/4aec4bc5-03ed-4e91-a025-6ae790186280] to complete...\n",
      "....................................................................done.\n",
      "Created repository [quickstart-docker-repo].\n"
     ]
    }
   ],
   "source": [
    "%%sh\n",
    "# Create a Docker repository in Artifact Registry\n",
    "gcloud artifacts repositories create quickstart-docker-repo \\\n",
    "    --repository-format=docker \\\n",
    "    --location=us-west2 \\\n",
    "    --description=\"Docker repository\""
   ]
  },
  {
   "cell_type": "code",
   "execution_count": 8,
   "id": "2723e28c-2c3c-43b7-8c21-fd8582dd4cba",
   "metadata": {},
   "outputs": [
    {
     "name": "stderr",
     "output_type": "stream",
     "text": [
      "Listing items under project training1027, across all locations.\n",
      "\n"
     ]
    },
    {
     "name": "stdout",
     "output_type": "stream",
     "text": [
      "                                                                        ARTIFACT_REGISTRY\n",
      "REPOSITORY              FORMAT  MODE                 DESCRIPTION        LOCATION  LABELS  ENCRYPTION          CREATE_TIME          UPDATE_TIME          SIZE (MB)\n",
      "quickstart-docker-repo  DOCKER  STANDARD_REPOSITORY  Docker repository  us-west2          Google-managed key  2023-10-27T06:30:39  2023-10-27T06:30:39  0\n"
     ]
    }
   ],
   "source": [
    "%%sh\n",
    "# Verify\n",
    "gcloud artifacts repositories list"
   ]
  },
  {
   "cell_type": "markdown",
   "id": "7b100977-1446-435b-84fb-4656e265ff4b",
   "metadata": {},
   "source": [
    "### Build an image using Dockerfile"
   ]
  },
  {
   "cell_type": "code",
   "execution_count": 32,
   "id": "44d04643-0574-4a91-9475-d61fd6c05f83",
   "metadata": {},
   "outputs": [
    {
     "name": "stdout",
     "output_type": "stream",
     "text": [
      "training1027\n"
     ]
    }
   ],
   "source": [
    "!gcloud config get-value project"
   ]
  },
  {
   "cell_type": "code",
   "execution_count": null,
   "id": "affef02b-697e-40fa-a202-2aba6cde8b7e",
   "metadata": {},
   "outputs": [
    {
     "name": "stderr",
     "output_type": "stream",
     "text": [
      "Creating temporary tarball archive of 4 file(s) totalling 132 bytes before compression.\n",
      "Uploading tarball of [.] to [gs://training1027_cloudbuild/source/1698388880.286276-25f72bc42da54cf4847ab6395cb1e099.tgz]\n",
      "Created [https://cloudbuild.googleapis.com/v1/projects/training1027/locations/us-west2/builds/eaa23746-1b06-415a-9343-424fa3876e44].\n",
      "Logs are available at [ https://console.cloud.google.com/cloud-build/builds;region=us-west2/eaa23746-1b06-415a-9343-424fa3876e44?project=487762169828 ].\n"
     ]
    },
    {
     "name": "stdout",
     "output_type": "stream",
     "text": [
      "----------------------------- REMOTE BUILD OUTPUT ------------------------------\n",
      "starting build \"eaa23746-1b06-415a-9343-424fa3876e44\"\n",
      "\n",
      "FETCHSOURCE\n",
      "Fetching storage object: gs://training1027_cloudbuild/source/1698388880.286276-25f72bc42da54cf4847ab6395cb1e099.tgz#1698388880553381\n",
      "Copying gs://training1027_cloudbuild/source/1698388880.286276-25f72bc42da54cf4847ab6395cb1e099.tgz#1698388880553381...\n",
      "/ [1 files][  420.0 B/  420.0 B]                                                \n",
      "Operation completed over 1 objects/420.0 B.\n",
      "BUILD\n",
      "Already have image (with digest): gcr.io/cloud-builders/docker\n",
      "Sending build context to Docker daemon  5.632kB\n",
      "Step 1/3 : FROM ubuntu\n",
      "latest: Pulling from library/ubuntu\n",
      "Digest: sha256:2b7412e6465c3c7fc5bb21d3e6f1917c167358449fecac8176c6e496e5c1f05f\n",
      "Status: Downloaded newer image for ubuntu:latest\n",
      " ---> e4c58958181a\n",
      "Step 2/3 : COPY quickstart.sh /\n",
      " ---> 380bd71eab04\n",
      "Step 3/3 : CMD [\"/quickstart.sh\"]\n",
      " ---> Running in b31c14b992fe\n",
      "Removing intermediate container b31c14b992fe\n",
      " ---> 0c4752647703\n",
      "Successfully built 0c4752647703\n",
      "Successfully tagged us-west2-docker.pkg.dev/training1027/quickstart-docker-repo/quickstart-image:tag1\n",
      "PUSH\n",
      "Pushing us-west2-docker.pkg.dev/training1027/quickstart-docker-repo/quickstart-image:tag1\n",
      "The push refers to repository [us-west2-docker.pkg.dev/training1027/quickstart-docker-repo/quickstart-image]\n",
      "9d93d170e68b: Preparing\n",
      "256d88da4185: Preparing\n",
      "256d88da4185: Layer already exists\n",
      "9d93d170e68b: Pushed\n",
      "tag1: digest: sha256:69b183e2af3571ee4c04d3d8a2bfefd1aef2d785c8b7ce944f35f9951f615b86 size: 736\n",
      "DONE\n",
      "--------------------------------------------------------------------------------\n",
      "ID                                    CREATE_TIME                DURATION  SOURCE                                                                                      IMAGES                                                                             STATUS\n",
      "eaa23746-1b06-415a-9343-424fa3876e44  2023-10-27T06:41:20+00:00  13S       gs://training1027_cloudbuild/source/1698388880.286276-25f72bc42da54cf4847ab6395cb1e099.tgz  us-west2-docker.pkg.dev/training1027/quickstart-docker-repo/quickstart-image:tag1  SUCCESS\n"
     ]
    }
   ],
   "source": [
    "!gcloud builds submit \\\n",
    "    --region=us-west2 \\\n",
    "    --tag us-west2-docker.pkg.dev/$(gcloud config get-value project)/quickstart-docker-repo/quickstart-image:tag1"
   ]
  },
  {
   "cell_type": "code",
   "execution_count": null,
   "id": "d4e6c939-4576-47f6-bc06-d7582b8ec405",
   "metadata": {},
   "outputs": [],
   "source": []
  }
 ],
 "metadata": {
  "environment": {
   "kernel": "python3",
   "name": "tf2-cpu.2-11.m112",
   "type": "gcloud",
   "uri": "gcr.io/deeplearning-platform-release/tf2-cpu.2-11:m112"
  },
  "kernelspec": {
   "display_name": "Python 3",
   "language": "python",
   "name": "python3"
  },
  "language_info": {
   "codemirror_mode": {
    "name": "ipython",
    "version": 3
   },
   "file_extension": ".py",
   "mimetype": "text/x-python",
   "name": "python",
   "nbconvert_exporter": "python",
   "pygments_lexer": "ipython3",
   "version": "3.10.12"
  }
 },
 "nbformat": 4,
 "nbformat_minor": 5
}
