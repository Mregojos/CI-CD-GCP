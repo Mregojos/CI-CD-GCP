{
 "cells": [
  {
   "cell_type": "markdown",
   "id": "9db496aa-caf6-4a53-ad11-cbd5ef690011",
   "metadata": {},
   "source": [
    "# Sample 3: Cloud Deploy\n",
    "\n",
    "Reference: cloud.google.com/deploy/docs/overview"
   ]
  },
  {
   "cell_type": "markdown",
   "id": "3aad9e98-d5fb-4509-a109-a1eeeb45f1ad",
   "metadata": {},
   "source": [
    "## Deploy an app to GKE using Cloud Deploy"
   ]
  },
  {
   "cell_type": "raw",
   "id": "78d40e2f-ee6b-4c1d-b8c9-ff42fba20ea8",
   "metadata": {},
   "source": [
    "# Enable APIs\n",
    "* Cloud Deploy\n",
    "* Cloud Build\n",
    "* GKE\n",
    "* Cloud Storage"
   ]
  },
  {
   "cell_type": "code",
   "execution_count": 2,
   "id": "8cd1dafc-589e-4252-a09f-d44f7a24e56c",
   "metadata": {},
   "outputs": [],
   "source": [
    "# gcloud init"
   ]
  },
  {
   "cell_type": "code",
   "execution_count": 5,
   "id": "02a83061-7c1a-4894-9826-b9f7aefa3eb1",
   "metadata": {},
   "outputs": [
    {
     "name": "stdout",
     "output_type": "stream",
     "text": [
      "training1027\n"
     ]
    }
   ],
   "source": [
    "!echo $(gcloud config get-value project)"
   ]
  },
  {
   "cell_type": "code",
   "execution_count": 4,
   "id": "4602f53a-06d0-4509-8fd2-a1ac9ccd022c",
   "metadata": {},
   "outputs": [
    {
     "name": "stdout",
     "output_type": "stream",
     "text": [
      "Updated IAM policy for project [training1027].\n",
      "bindings:\n",
      "- members:\n",
      "  - serviceAccount:service-487762169828@gcp-sa-artifactregistry.iam.gserviceaccount.com\n",
      "  role: roles/artifactregistry.serviceAgent\n",
      "- members:\n",
      "  - serviceAccount:487762169828@cloudbuild.gserviceaccount.com\n",
      "  role: roles/cloudbuild.builds.builder\n",
      "- members:\n",
      "  - serviceAccount:matt-training@training1027.iam.gserviceaccount.com\n",
      "  role: roles/cloudbuild.builds.editor\n",
      "- members:\n",
      "  - serviceAccount:service-487762169828@gcp-sa-cloudbuild.iam.gserviceaccount.com\n",
      "  role: roles/cloudbuild.serviceAgent\n",
      "- members:\n",
      "  - serviceAccount:matt-training@training1027.iam.gserviceaccount.com\n",
      "  role: roles/clouddeploy.admin\n",
      "- members:\n",
      "  - serviceAccount:487762169828-compute@developer.gserviceaccount.com\n",
      "  role: roles/clouddeploy.jobRunner\n",
      "- members:\n",
      "  - serviceAccount:service-487762169828@compute-system.iam.gserviceaccount.com\n",
      "  role: roles/compute.serviceAgent\n",
      "- members:\n",
      "  - serviceAccount:service-487762169828@container-engine-robot.iam.gserviceaccount.com\n",
      "  role: roles/container.serviceAgent\n",
      "- members:\n",
      "  - serviceAccount:service-487762169828@containerregistry.iam.gserviceaccount.com\n",
      "  role: roles/containerregistry.ServiceAgent\n",
      "- members:\n",
      "  - serviceAccount:487762169828-compute@developer.gserviceaccount.com\n",
      "  - serviceAccount:487762169828@cloudservices.gserviceaccount.com\n",
      "  - serviceAccount:matt-training@training1027.iam.gserviceaccount.com\n",
      "  role: roles/editor\n",
      "- members:\n",
      "  - serviceAccount:matt-training@training1027.iam.gserviceaccount.com\n",
      "  role: roles/iam.securityAdmin\n",
      "- members:\n",
      "  - serviceAccount:service-487762169828@gcp-sa-notebooks.iam.gserviceaccount.com\n",
      "  role: roles/notebooks.serviceAgent\n",
      "- members:\n",
      "  - user:mattiregojos@gmail.com\n",
      "  role: roles/owner\n",
      "- members:\n",
      "  - serviceAccount:service-487762169828@gcp-sa-pubsub.iam.gserviceaccount.com\n",
      "  role: roles/pubsub.serviceAgent\n",
      "- members:\n",
      "  - serviceAccount:matt-training@training1027.iam.gserviceaccount.com\n",
      "  role: roles/resourcemanager.projectIamAdmin\n",
      "- members:\n",
      "  - serviceAccount:487762169828@cloudbuild.gserviceaccount.com\n",
      "  - serviceAccount:matt-training@training1027.iam.gserviceaccount.com\n",
      "  role: roles/run.admin\n",
      "- members:\n",
      "  - serviceAccount:service-487762169828@serverless-robot-prod.iam.gserviceaccount.com\n",
      "  role: roles/run.serviceAgent\n",
      "etag: BwYIrdk-BuQ=\n",
      "version: 1\n"
     ]
    }
   ],
   "source": [
    "# Make sure the default ompute Engine service account has sufficient permissions\n",
    "# Add the clouddeploy.jobRunner role\n",
    "!gcloud projects add-iam-policy-binding $(gcloud config get-value project) \\\n",
    "    --member=serviceAccount:$(gcloud projects describe $(gcloud config get-value project) \\\n",
    "    --format=\"value(projectNumber)\")-compute@developer.gserviceaccount.com \\\n",
    "    --role=\"roles/clouddeploy.jobRunner\""
   ]
  },
  {
   "cell_type": "code",
   "execution_count": 7,
   "id": "494cd2e5-d648-4d7a-bb7e-8e59cf6707af",
   "metadata": {},
   "outputs": [
    {
     "name": "stdout",
     "output_type": "stream",
     "text": [
      "Updated IAM policy for project [training1027].\n",
      "bindings:\n",
      "- members:\n",
      "  - serviceAccount:service-487762169828@gcp-sa-artifactregistry.iam.gserviceaccount.com\n",
      "  role: roles/artifactregistry.serviceAgent\n",
      "- members:\n",
      "  - serviceAccount:487762169828@cloudbuild.gserviceaccount.com\n",
      "  role: roles/cloudbuild.builds.builder\n",
      "- members:\n",
      "  - serviceAccount:matt-training@training1027.iam.gserviceaccount.com\n",
      "  role: roles/cloudbuild.builds.editor\n",
      "- members:\n",
      "  - serviceAccount:service-487762169828@gcp-sa-cloudbuild.iam.gserviceaccount.com\n",
      "  role: roles/cloudbuild.serviceAgent\n",
      "- members:\n",
      "  - serviceAccount:matt-training@training1027.iam.gserviceaccount.com\n",
      "  role: roles/clouddeploy.admin\n",
      "- members:\n",
      "  - serviceAccount:487762169828-compute@developer.gserviceaccount.com\n",
      "  role: roles/clouddeploy.jobRunner\n",
      "- members:\n",
      "  - serviceAccount:service-487762169828@compute-system.iam.gserviceaccount.com\n",
      "  role: roles/compute.serviceAgent\n",
      "- members:\n",
      "  - serviceAccount:487762169828-compute@developer.gserviceaccount.com\n",
      "  role: roles/container.developer\n",
      "- members:\n",
      "  - serviceAccount:service-487762169828@container-engine-robot.iam.gserviceaccount.com\n",
      "  role: roles/container.serviceAgent\n",
      "- members:\n",
      "  - serviceAccount:service-487762169828@containerregistry.iam.gserviceaccount.com\n",
      "  role: roles/containerregistry.ServiceAgent\n",
      "- members:\n",
      "  - serviceAccount:487762169828-compute@developer.gserviceaccount.com\n",
      "  - serviceAccount:487762169828@cloudservices.gserviceaccount.com\n",
      "  - serviceAccount:matt-training@training1027.iam.gserviceaccount.com\n",
      "  role: roles/editor\n",
      "- members:\n",
      "  - serviceAccount:matt-training@training1027.iam.gserviceaccount.com\n",
      "  role: roles/iam.securityAdmin\n",
      "- members:\n",
      "  - serviceAccount:service-487762169828@gcp-sa-notebooks.iam.gserviceaccount.com\n",
      "  role: roles/notebooks.serviceAgent\n",
      "- members:\n",
      "  - user:mattiregojos@gmail.com\n",
      "  role: roles/owner\n",
      "- members:\n",
      "  - serviceAccount:service-487762169828@gcp-sa-pubsub.iam.gserviceaccount.com\n",
      "  role: roles/pubsub.serviceAgent\n",
      "- members:\n",
      "  - serviceAccount:matt-training@training1027.iam.gserviceaccount.com\n",
      "  role: roles/resourcemanager.projectIamAdmin\n",
      "- members:\n",
      "  - serviceAccount:487762169828@cloudbuild.gserviceaccount.com\n",
      "  - serviceAccount:matt-training@training1027.iam.gserviceaccount.com\n",
      "  role: roles/run.admin\n",
      "- members:\n",
      "  - serviceAccount:service-487762169828@serverless-robot-prod.iam.gserviceaccount.com\n",
      "  role: roles/run.serviceAgent\n",
      "etag: BwYIrd7Hl8Q=\n",
      "version: 1\n"
     ]
    }
   ],
   "source": [
    "# Add the Kubernetes developer permissions\n",
    "!gcloud projects add-iam-policy-binding $(gcloud config get-value project) \\\n",
    "    --member=serviceAccount:$(gcloud projects describe $(gcloud config get-value project) \\\n",
    "    --format=\"value(projectNumber)\")-compute@developer.gserviceaccount.com \\\n",
    "    --role=\"roles/container.developer\""
   ]
  },
  {
   "cell_type": "code",
   "execution_count": 8,
   "id": "e64d9a9e-91e1-459a-85f7-e5758f360bc8",
   "metadata": {},
   "outputs": [
    {
     "name": "stdout",
     "output_type": "stream",
     "text": [
      "Updated IAM policy for serviceAccount [487762169828-compute@developer.gserviceaccount.com].\n",
      "bindings:\n",
      "- members:\n",
      "  - serviceAccount:487762169828-compute@developer.gserviceaccount.com\n",
      "  - serviceAccount:487762169828@cloudbuild.gserviceaccount.com\n",
      "  role: roles/iam.serviceAccountUser\n",
      "etag: BwYIreLaEwQ=\n",
      "version: 1\n"
     ]
    }
   ],
   "source": [
    "# Add the iam.serviceAccountUser role, which includes the actAs permission to deploy to the runtime\n",
    "!gcloud iam service-accounts add-iam-policy-binding $(gcloud projects describe $(gcloud config get-value project) \\\n",
    "    --format=\"value(projectNumber)\")-compute@developer.gserviceaccount.com \\\n",
    "    --member=serviceAccount:$(gcloud projects describe $(gcloud config get-value project) \\\n",
    "    --format=\"value(projectNumber)\")-compute@developer.gserviceaccount.com \\\n",
    "    --role=\"roles/iam.serviceAccountUser\" \\\n",
    "    --project=$(gcloud config get-value project)"
   ]
  },
  {
   "cell_type": "markdown",
   "id": "fe052db3-8a7e-42e3-ad33-7e893db8145d",
   "metadata": {},
   "source": [
    "### Create Google Kubernetes Engine clusters"
   ]
  },
  {
   "cell_type": "code",
   "execution_count": null,
   "id": "ae4cf17d-6d05-4e68-9971-ecd07b34db67",
   "metadata": {},
   "outputs": [],
   "source": []
  }
 ],
 "metadata": {
  "environment": {
   "kernel": "python3",
   "name": "tf2-cpu.2-11.m112",
   "type": "gcloud",
   "uri": "gcr.io/deeplearning-platform-release/tf2-cpu.2-11:m112"
  },
  "kernelspec": {
   "display_name": "Python 3",
   "language": "python",
   "name": "python3"
  },
  "language_info": {
   "codemirror_mode": {
    "name": "ipython",
    "version": 3
   },
   "file_extension": ".py",
   "mimetype": "text/x-python",
   "name": "python",
   "nbconvert_exporter": "python",
   "pygments_lexer": "ipython3",
   "version": "3.10.12"
  }
 },
 "nbformat": 4,
 "nbformat_minor": 5
}
