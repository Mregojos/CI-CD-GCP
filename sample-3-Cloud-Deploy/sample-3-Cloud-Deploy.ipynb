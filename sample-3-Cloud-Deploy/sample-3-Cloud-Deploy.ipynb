{
 "cells": [
  {
   "cell_type": "markdown",
   "id": "9db496aa-caf6-4a53-ad11-cbd5ef690011",
   "metadata": {},
   "source": [
    "# Sample 3: Cloud Deploy\n",
    "\n",
    "Reference: cloud.google.com/deploy/docs/overview"
   ]
  },
  {
   "cell_type": "markdown",
   "id": "3aad9e98-d5fb-4509-a109-a1eeeb45f1ad",
   "metadata": {},
   "source": [
    "## Deploy an app to GKE using Cloud Deploy"
   ]
  },
  {
   "cell_type": "raw",
   "id": "78d40e2f-ee6b-4c1d-b8c9-ff42fba20ea8",
   "metadata": {},
   "source": [
    "# Enable APIs\n",
    "* Cloud Deploy\n",
    "* Cloud Build\n",
    "* GKE\n",
    "* Cloud Storage"
   ]
  },
  {
   "cell_type": "code",
   "execution_count": 2,
   "id": "8cd1dafc-589e-4252-a09f-d44f7a24e56c",
   "metadata": {},
   "outputs": [],
   "source": [
    "# gcloud init"
   ]
  },
  {
   "cell_type": "code",
   "execution_count": 5,
   "id": "02a83061-7c1a-4894-9826-b9f7aefa3eb1",
   "metadata": {},
   "outputs": [
    {
     "name": "stdout",
     "output_type": "stream",
     "text": [
      "training1027\n"
     ]
    }
   ],
   "source": [
    "!echo $(gcloud config get-value project)"
   ]
  },
  {
   "cell_type": "code",
   "execution_count": 4,
   "id": "4602f53a-06d0-4509-8fd2-a1ac9ccd022c",
   "metadata": {},
   "outputs": [
    {
     "name": "stdout",
     "output_type": "stream",
     "text": [
      "Updated IAM policy for project [training1027].\n",
      "bindings:\n",
      "- members:\n",
      "  - serviceAccount:service-487762169828@gcp-sa-artifactregistry.iam.gserviceaccount.com\n",
      "  role: roles/artifactregistry.serviceAgent\n",
      "- members:\n",
      "  - serviceAccount:487762169828@cloudbuild.gserviceaccount.com\n",
      "  role: roles/cloudbuild.builds.builder\n",
      "- members:\n",
      "  - serviceAccount:matt-training@training1027.iam.gserviceaccount.com\n",
      "  role: roles/cloudbuild.builds.editor\n",
      "- members:\n",
      "  - serviceAccount:service-487762169828@gcp-sa-cloudbuild.iam.gserviceaccount.com\n",
      "  role: roles/cloudbuild.serviceAgent\n",
      "- members:\n",
      "  - serviceAccount:matt-training@training1027.iam.gserviceaccount.com\n",
      "  role: roles/clouddeploy.admin\n",
      "- members:\n",
      "  - serviceAccount:487762169828-compute@developer.gserviceaccount.com\n",
      "  role: roles/clouddeploy.jobRunner\n",
      "- members:\n",
      "  - serviceAccount:service-487762169828@compute-system.iam.gserviceaccount.com\n",
      "  role: roles/compute.serviceAgent\n",
      "- members:\n",
      "  - serviceAccount:service-487762169828@container-engine-robot.iam.gserviceaccount.com\n",
      "  role: roles/container.serviceAgent\n",
      "- members:\n",
      "  - serviceAccount:service-487762169828@containerregistry.iam.gserviceaccount.com\n",
      "  role: roles/containerregistry.ServiceAgent\n",
      "- members:\n",
      "  - serviceAccount:487762169828-compute@developer.gserviceaccount.com\n",
      "  - serviceAccount:487762169828@cloudservices.gserviceaccount.com\n",
      "  - serviceAccount:matt-training@training1027.iam.gserviceaccount.com\n",
      "  role: roles/editor\n",
      "- members:\n",
      "  - serviceAccount:matt-training@training1027.iam.gserviceaccount.com\n",
      "  role: roles/iam.securityAdmin\n",
      "- members:\n",
      "  - serviceAccount:service-487762169828@gcp-sa-notebooks.iam.gserviceaccount.com\n",
      "  role: roles/notebooks.serviceAgent\n",
      "- members:\n",
      "  - user:mattiregojos@gmail.com\n",
      "  role: roles/owner\n",
      "- members:\n",
      "  - serviceAccount:service-487762169828@gcp-sa-pubsub.iam.gserviceaccount.com\n",
      "  role: roles/pubsub.serviceAgent\n",
      "- members:\n",
      "  - serviceAccount:matt-training@training1027.iam.gserviceaccount.com\n",
      "  role: roles/resourcemanager.projectIamAdmin\n",
      "- members:\n",
      "  - serviceAccount:487762169828@cloudbuild.gserviceaccount.com\n",
      "  - serviceAccount:matt-training@training1027.iam.gserviceaccount.com\n",
      "  role: roles/run.admin\n",
      "- members:\n",
      "  - serviceAccount:service-487762169828@serverless-robot-prod.iam.gserviceaccount.com\n",
      "  role: roles/run.serviceAgent\n",
      "etag: BwYIrdk-BuQ=\n",
      "version: 1\n"
     ]
    }
   ],
   "source": [
    "# Make sure the default ompute Engine service account has sufficient permissions\n",
    "# Add the clouddeploy.jobRunner role\n",
    "!gcloud projects add-iam-policy-binding $(gcloud config get-value project) \\\n",
    "    --member=serviceAccount:$(gcloud projects describe $(gcloud config get-value project) \\\n",
    "    --format=\"value(projectNumber)\")-compute@developer.gserviceaccount.com \\\n",
    "    --role=\"roles/clouddeploy.jobRunner\""
   ]
  },
  {
   "cell_type": "code",
   "execution_count": 7,
   "id": "494cd2e5-d648-4d7a-bb7e-8e59cf6707af",
   "metadata": {},
   "outputs": [
    {
     "name": "stdout",
     "output_type": "stream",
     "text": [
      "Updated IAM policy for project [training1027].\n",
      "bindings:\n",
      "- members:\n",
      "  - serviceAccount:service-487762169828@gcp-sa-artifactregistry.iam.gserviceaccount.com\n",
      "  role: roles/artifactregistry.serviceAgent\n",
      "- members:\n",
      "  - serviceAccount:487762169828@cloudbuild.gserviceaccount.com\n",
      "  role: roles/cloudbuild.builds.builder\n",
      "- members:\n",
      "  - serviceAccount:matt-training@training1027.iam.gserviceaccount.com\n",
      "  role: roles/cloudbuild.builds.editor\n",
      "- members:\n",
      "  - serviceAccount:service-487762169828@gcp-sa-cloudbuild.iam.gserviceaccount.com\n",
      "  role: roles/cloudbuild.serviceAgent\n",
      "- members:\n",
      "  - serviceAccount:matt-training@training1027.iam.gserviceaccount.com\n",
      "  role: roles/clouddeploy.admin\n",
      "- members:\n",
      "  - serviceAccount:487762169828-compute@developer.gserviceaccount.com\n",
      "  role: roles/clouddeploy.jobRunner\n",
      "- members:\n",
      "  - serviceAccount:service-487762169828@compute-system.iam.gserviceaccount.com\n",
      "  role: roles/compute.serviceAgent\n",
      "- members:\n",
      "  - serviceAccount:487762169828-compute@developer.gserviceaccount.com\n",
      "  role: roles/container.developer\n",
      "- members:\n",
      "  - serviceAccount:service-487762169828@container-engine-robot.iam.gserviceaccount.com\n",
      "  role: roles/container.serviceAgent\n",
      "- members:\n",
      "  - serviceAccount:service-487762169828@containerregistry.iam.gserviceaccount.com\n",
      "  role: roles/containerregistry.ServiceAgent\n",
      "- members:\n",
      "  - serviceAccount:487762169828-compute@developer.gserviceaccount.com\n",
      "  - serviceAccount:487762169828@cloudservices.gserviceaccount.com\n",
      "  - serviceAccount:matt-training@training1027.iam.gserviceaccount.com\n",
      "  role: roles/editor\n",
      "- members:\n",
      "  - serviceAccount:matt-training@training1027.iam.gserviceaccount.com\n",
      "  role: roles/iam.securityAdmin\n",
      "- members:\n",
      "  - serviceAccount:service-487762169828@gcp-sa-notebooks.iam.gserviceaccount.com\n",
      "  role: roles/notebooks.serviceAgent\n",
      "- members:\n",
      "  - user:mattiregojos@gmail.com\n",
      "  role: roles/owner\n",
      "- members:\n",
      "  - serviceAccount:service-487762169828@gcp-sa-pubsub.iam.gserviceaccount.com\n",
      "  role: roles/pubsub.serviceAgent\n",
      "- members:\n",
      "  - serviceAccount:matt-training@training1027.iam.gserviceaccount.com\n",
      "  role: roles/resourcemanager.projectIamAdmin\n",
      "- members:\n",
      "  - serviceAccount:487762169828@cloudbuild.gserviceaccount.com\n",
      "  - serviceAccount:matt-training@training1027.iam.gserviceaccount.com\n",
      "  role: roles/run.admin\n",
      "- members:\n",
      "  - serviceAccount:service-487762169828@serverless-robot-prod.iam.gserviceaccount.com\n",
      "  role: roles/run.serviceAgent\n",
      "etag: BwYIrd7Hl8Q=\n",
      "version: 1\n"
     ]
    }
   ],
   "source": [
    "# Add the Kubernetes developer permissions\n",
    "!gcloud projects add-iam-policy-binding $(gcloud config get-value project) \\\n",
    "    --member=serviceAccount:$(gcloud projects describe $(gcloud config get-value project) \\\n",
    "    --format=\"value(projectNumber)\")-compute@developer.gserviceaccount.com \\\n",
    "    --role=\"roles/container.developer\""
   ]
  },
  {
   "cell_type": "code",
   "execution_count": 8,
   "id": "e64d9a9e-91e1-459a-85f7-e5758f360bc8",
   "metadata": {},
   "outputs": [
    {
     "name": "stdout",
     "output_type": "stream",
     "text": [
      "Updated IAM policy for serviceAccount [487762169828-compute@developer.gserviceaccount.com].\n",
      "bindings:\n",
      "- members:\n",
      "  - serviceAccount:487762169828-compute@developer.gserviceaccount.com\n",
      "  - serviceAccount:487762169828@cloudbuild.gserviceaccount.com\n",
      "  role: roles/iam.serviceAccountUser\n",
      "etag: BwYIreLaEwQ=\n",
      "version: 1\n"
     ]
    }
   ],
   "source": [
    "# Add the iam.serviceAccountUser role, which includes the actAs permission to deploy to the runtime\n",
    "!gcloud iam service-accounts add-iam-policy-binding $(gcloud projects describe $(gcloud config get-value project) \\\n",
    "    --format=\"value(projectNumber)\")-compute@developer.gserviceaccount.com \\\n",
    "    --member=serviceAccount:$(gcloud projects describe $(gcloud config get-value project) \\\n",
    "    --format=\"value(projectNumber)\")-compute@developer.gserviceaccount.com \\\n",
    "    --role=\"roles/iam.serviceAccountUser\" \\\n",
    "    --project=$(gcloud config get-value project)"
   ]
  },
  {
   "cell_type": "markdown",
   "id": "fe052db3-8a7e-42e3-ad33-7e893db8145d",
   "metadata": {},
   "source": [
    "### Create Google Kubernetes Engine clusters"
   ]
  },
  {
   "cell_type": "code",
   "execution_count": null,
   "id": "ae4cf17d-6d05-4e68-9971-ecd07b34db67",
   "metadata": {},
   "outputs": [
    {
     "name": "stdout",
     "output_type": "stream",
     "text": [
      "Note: The Pod address range limits the maximum size of the cluster. Please refer to https://cloud.google.com/kubernetes-engine/docs/how-to/flexible-pod-cidr to learn how to optimize IP address allocation.\n",
      "Creating cluster quickstart-cluster-qsdev in us-west1... Cluster is being confi\n",
      "gured...⠼                                                                      \n",
      "Creating cluster quickstart-cluster-qsdev in us-west1... Cluster is being deplo\n",
      "yed...⠼                                                                        \n",
      "Creating cluster quickstart-cluster-qsdev in us-west1... Cluster is being healt\n",
      "h-checked...⠹                                                                  "
     ]
    }
   ],
   "source": [
    "!gcloud container clusters create-auto quickstart-cluster-qsdev \\\n",
    "    --project=$(gcloud config get-value project) \\\n",
    "    --region=us-west1 && gcloud container clusters create-auto quickstart-cluster-qsprod \\\n",
    "    --project=$(gcloud config get-value project) \\\n",
    "    --region=us-west1"
   ]
  },
  {
   "cell_type": "markdown",
   "id": "8365b04e-879c-488f-81c3-9194ba194d73",
   "metadata": {},
   "source": [
    "### Prepare Skaffold configuration and Kubernetes manifest"
   ]
  },
  {
   "cell_type": "code",
   "execution_count": null,
   "id": "d08f48d6-1675-489a-8c22-f8b2bad889c1",
   "metadata": {},
   "outputs": [],
   "source": [
    "!mkdir deploy-gke-quickstart"
   ]
  },
  {
   "cell_type": "code",
   "execution_count": null,
   "id": "f2a24870-b2f1-442b-a52b-8699799db4eb",
   "metadata": {},
   "outputs": [],
   "source": [
    "pwd"
   ]
  },
  {
   "cell_type": "code",
   "execution_count": null,
   "id": "faf6081e-989a-4bdf-9756-895db3aedaf5",
   "metadata": {},
   "outputs": [],
   "source": [
    "cd deploy-gke-quickstart"
   ]
  },
  {
   "cell_type": "code",
   "execution_count": null,
   "id": "4e38c2dc-bc67-4863-937b-2f0c5c0eb2c5",
   "metadata": {},
   "outputs": [],
   "source": [
    "pwd"
   ]
  },
  {
   "cell_type": "code",
   "execution_count": null,
   "id": "84bfbb45-cb59-4618-8c5f-e5b4f23eed7f",
   "metadata": {},
   "outputs": [],
   "source": [
    "%%writefile skaffold.yaml\n",
    "apiVersion: skaffold/v2beta16\n",
    "kind: Config\n",
    "deploy:\n",
    "  kubectl:\n",
    "    manifests:\n",
    "      - k8s-*"
   ]
  },
  {
   "cell_type": "code",
   "execution_count": null,
   "id": "eaca49a0-1b6b-4bc4-869a-b65024535875",
   "metadata": {},
   "outputs": [],
   "source": [
    "%%writefile k8s-pod.yaml\n",
    "apiVersion: v1\n",
    "kind: Pod\n",
    "metadata:\n",
    "  name: getting-started\n",
    "spec:\n",
    "  containers:\n",
    "  - name: nginx\n",
    "    image: my-app-image"
   ]
  },
  {
   "cell_type": "markdown",
   "id": "7bb696db-a14b-4aaa-9646-3ec2499a6554",
   "metadata": {},
   "source": [
    "### Create your delivery pipeline and targets"
   ]
  },
  {
   "cell_type": "code",
   "execution_count": null,
   "id": "1c9c6734-7a55-414b-906b-1a36e951db11",
   "metadata": {},
   "outputs": [],
   "source": [
    "%%writefile clouddeploy.yaml\n",
    "apiVersion: deploy.cloud.google.com/v1\n",
    "kind: DeliveryPipeline\n",
    "metadata:\n",
    "  name: my-gke-demo-app-1\n",
    "description: main application pipeline\n",
    "serialPipeline:\n",
    "  stages:\n",
    "  - targetId: qsdev\n",
    "    profiles: []\n",
    "  - targetId: qsprod\n",
    "    profiles: []\n",
    "---\n",
    "\n",
    "apiVersion: deploy.cloud.google.com/v1\n",
    "kind: Target\n",
    "metadata:\n",
    "  name: qsdev\n",
    "description: development cluster\n",
    "gke:\n",
    "  cluster: projects/PROJECT_ID/locations/us-central1/clusters/quickstart-cluster-qsdev\n",
    "---\n",
    "\n",
    "apiVersion: deploy.cloud.google.com/v1\n",
    "kind: Target\n",
    "metadata:\n",
    "  name: qsprod\n",
    "description: production cluster\n",
    "gke:\n",
    "  cluster: projects/PROJECT_ID/locations/us-central1/clusters/quickstart-cluster-qsprod"
   ]
  }
 ],
 "metadata": {
  "environment": {
   "kernel": "python3",
   "name": "tf2-cpu.2-11.m112",
   "type": "gcloud",
   "uri": "gcr.io/deeplearning-platform-release/tf2-cpu.2-11:m112"
  },
  "kernelspec": {
   "display_name": "Python 3",
   "language": "python",
   "name": "python3"
  },
  "language_info": {
   "codemirror_mode": {
    "name": "ipython",
    "version": 3
   },
   "file_extension": ".py",
   "mimetype": "text/x-python",
   "name": "python",
   "nbconvert_exporter": "python",
   "pygments_lexer": "ipython3",
   "version": "3.10.12"
  }
 },
 "nbformat": 4,
 "nbformat_minor": 5
}
