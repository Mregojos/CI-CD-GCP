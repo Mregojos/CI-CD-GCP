{
 "cells": [
  {
   "cell_type": "markdown",
   "id": "9db496aa-caf6-4a53-ad11-cbd5ef690011",
   "metadata": {},
   "source": [
    "# Sample 3: Cloud Deploy\n",
    "\n",
    "Reference: cloud.google.com/deploy/docs/overview"
   ]
  },
  {
   "cell_type": "code",
   "execution_count": null,
   "id": "41ef37a8-817b-4341-a784-efab9961c9de",
   "metadata": {},
   "outputs": [],
   "source": []
  }
 ],
 "metadata": {
  "environment": {
   "kernel": "python3",
   "name": "tf2-cpu.2-11.m112",
   "type": "gcloud",
   "uri": "gcr.io/deeplearning-platform-release/tf2-cpu.2-11:m112"
  },
  "kernelspec": {
   "display_name": "Python 3",
   "language": "python",
   "name": "python3"
  },
  "language_info": {
   "codemirror_mode": {
    "name": "ipython",
    "version": 3
   },
   "file_extension": ".py",
   "mimetype": "text/x-python",
   "name": "python",
   "nbconvert_exporter": "python",
   "pygments_lexer": "ipython3",
   "version": "3.10.12"
  }
 },
 "nbformat": 4,
 "nbformat_minor": 5
}
