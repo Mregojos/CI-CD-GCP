{
 "cells": [
  {
   "cell_type": "markdown",
   "id": "9d28fe5c-a203-45b4-adc1-c256ca90d12b",
   "metadata": {},
   "source": [
    "# CI/CD GCP Project "
   ]
  },
  {
   "cell_type": "code",
   "execution_count": null,
   "id": "175756b0-794a-4c7d-ac88-6d1aa09ab3c6",
   "metadata": {},
   "outputs": [],
   "source": []
  }
 ],
 "metadata": {
  "environment": {
   "kernel": "python3",
   "name": "tf2-cpu.2-11.m112",
   "type": "gcloud",
   "uri": "gcr.io/deeplearning-platform-release/tf2-cpu.2-11:m112"
  },
  "kernelspec": {
   "display_name": "Python 3",
   "language": "python",
   "name": "python3"
  },
  "language_info": {
   "codemirror_mode": {
    "name": "ipython",
    "version": 3
   },
   "file_extension": ".py",
   "mimetype": "text/x-python",
   "name": "python",
   "nbconvert_exporter": "python",
   "pygments_lexer": "ipython3",
   "version": "3.10.12"
  }
 },
 "nbformat": 4,
 "nbformat_minor": 5
}
