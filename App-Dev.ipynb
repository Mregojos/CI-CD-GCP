{
 "cells": [
  {
   "cell_type": "markdown",
   "id": "37b13336-61ed-4f52-ad6b-817a6c556885",
   "metadata": {},
   "source": [
    "# App Dev"
   ]
  },
  {
   "cell_type": "code",
   "execution_count": null,
   "id": "df5a2b84-a2b8-4c3f-8b70-e1dde6e42f35",
   "metadata": {},
   "outputs": [],
   "source": []
  }
 ],
 "metadata": {
  "environment": {
   "kernel": "python3",
   "name": "tf2-cpu.2-11.m113",
   "type": "gcloud",
   "uri": "gcr.io/deeplearning-platform-release/tf2-cpu.2-11:m113"
  },
  "kernelspec": {
   "display_name": "Python 3",
   "language": "python",
   "name": "python3"
  },
  "language_info": {
   "codemirror_mode": {
    "name": "ipython",
    "version": 3
   },
   "file_extension": ".py",
   "mimetype": "text/x-python",
   "name": "python",
   "nbconvert_exporter": "python",
   "pygments_lexer": "ipython3",
   "version": "3.10.13"
  }
 },
 "nbformat": 4,
 "nbformat_minor": 5
}
