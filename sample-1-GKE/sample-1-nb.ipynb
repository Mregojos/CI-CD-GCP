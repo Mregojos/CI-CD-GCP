{
 "cells": [
  {
   "cell_type": "markdown",
   "id": "eba0e72d-e0bb-42d4-b548-f988e680a395",
   "metadata": {},
   "source": [
    "# Sample 1: GKE\n",
    "\n",
    "Reference: "
   ]
  },
  {
   "cell_type": "code",
   "execution_count": null,
   "id": "43a12d5c-2d8b-477b-95e5-f8df6c2ead92",
   "metadata": {},
   "outputs": [],
   "source": []
  }
 ],
 "metadata": {
  "environment": {
   "kernel": "python3",
   "name": "tf2-cpu.2-11.m112",
   "type": "gcloud",
   "uri": "gcr.io/deeplearning-platform-release/tf2-cpu.2-11:m112"
  },
  "kernelspec": {
   "display_name": "Python 3",
   "language": "python",
   "name": "python3"
  },
  "language_info": {
   "codemirror_mode": {
    "name": "ipython",
    "version": 3
   },
   "file_extension": ".py",
   "mimetype": "text/x-python",
   "name": "python",
   "nbconvert_exporter": "python",
   "pygments_lexer": "ipython3",
   "version": "3.10.12"
  }
 },
 "nbformat": 4,
 "nbformat_minor": 5
}
